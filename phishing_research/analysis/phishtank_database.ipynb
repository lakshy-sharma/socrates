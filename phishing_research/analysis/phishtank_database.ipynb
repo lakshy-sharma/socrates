{
 "cells": [
  {
   "cell_type": "code",
   "execution_count": 1,
   "metadata": {},
   "outputs": [],
   "source": [
    "import pandas as pd"
   ]
  },
  {
   "cell_type": "markdown",
   "metadata": {},
   "source": [
    "# Column Definitions\n",
    "\n",
    "1. **phish_id**: The ID number by which Phishtank refers to a phish submission. All data in PhishTank is tied to this ID. This will always be a positive integer.\n",
    "2. **phish_detail_url**: PhishTank detail url for the phish, where you can view data about the phish, including a screenshot and the community votes.\n",
    "3. **url**: The phish URL. This is always a string, and in the XML feeds may be a CDATA block.\n",
    "4. **submission_time**: The date and time at which this phish was reported to Phishtank. This is an ISO 8601 formatted date.\n",
    "5. **verified**: Whether or not this phish has been verified by our community. In these data files, this will always be the string 'yes' since we only supply verified phishes in these files.\n",
    "6. **verification_time**: The date and time at which the phish was verified as valid by our community. This is an ISO 8601 formatted date.\n",
    "7. **online**: Whether or not the phish is online and operational. In these data files, this will always be the string 'yes' since we only supply online phishes in these files.\n",
    "8. **target**: The name of the company or brand the phish is impersonating, if it's known. "
   ]
  },
  {
   "cell_type": "code",
   "execution_count": 2,
   "metadata": {},
   "outputs": [],
   "source": [
    "phishing_db = pd.read_csv(\"../database/main_db.csv\")"
   ]
  },
  {
   "cell_type": "code",
   "execution_count": 5,
   "metadata": {},
   "outputs": [
    {
     "data": {
      "text/html": [
       "<div>\n",
       "<style scoped>\n",
       "    .dataframe tbody tr th:only-of-type {\n",
       "        vertical-align: middle;\n",
       "    }\n",
       "\n",
       "    .dataframe tbody tr th {\n",
       "        vertical-align: top;\n",
       "    }\n",
       "\n",
       "    .dataframe thead th {\n",
       "        text-align: right;\n",
       "    }\n",
       "</style>\n",
       "<table border=\"1\" class=\"dataframe\">\n",
       "  <thead>\n",
       "    <tr style=\"text-align: right;\">\n",
       "      <th></th>\n",
       "      <th>phish_id</th>\n",
       "      <th>url</th>\n",
       "      <th>phish_detail_url</th>\n",
       "      <th>submission_time</th>\n",
       "      <th>verified</th>\n",
       "      <th>verification_time</th>\n",
       "      <th>online</th>\n",
       "      <th>target</th>\n",
       "    </tr>\n",
       "  </thead>\n",
       "  <tbody>\n",
       "    <tr>\n",
       "      <th>0</th>\n",
       "      <td>8629212</td>\n",
       "      <td>http://7766hmhttt.000webhostapp.com/agency.dai...</td>\n",
       "      <td>http://www.phishtank.com/phish_detail.php?phis...</td>\n",
       "      <td>2024-06-25T16:00:19+00:00</td>\n",
       "      <td>yes</td>\n",
       "      <td>2024-06-25T16:04:14+00:00</td>\n",
       "      <td>yes</td>\n",
       "      <td>Other</td>\n",
       "    </tr>\n",
       "    <tr>\n",
       "      <th>1</th>\n",
       "      <td>8629193</td>\n",
       "      <td>https://us17.list-manage.com/survey?u=5688d12d...</td>\n",
       "      <td>http://www.phishtank.com/phish_detail.php?phis...</td>\n",
       "      <td>2024-06-25T15:31:09+00:00</td>\n",
       "      <td>yes</td>\n",
       "      <td>2024-06-25T15:42:59+00:00</td>\n",
       "      <td>yes</td>\n",
       "      <td>Other</td>\n",
       "    </tr>\n",
       "    <tr>\n",
       "      <th>2</th>\n",
       "      <td>8629192</td>\n",
       "      <td>https://tpfan033.activehosted.com/f/1</td>\n",
       "      <td>http://www.phishtank.com/phish_detail.php?phis...</td>\n",
       "      <td>2024-06-25T15:31:01+00:00</td>\n",
       "      <td>yes</td>\n",
       "      <td>2024-06-25T15:42:59+00:00</td>\n",
       "      <td>yes</td>\n",
       "      <td>Other</td>\n",
       "    </tr>\n",
       "    <tr>\n",
       "      <th>3</th>\n",
       "      <td>8629191</td>\n",
       "      <td>https://link.space/@btinternetm</td>\n",
       "      <td>http://www.phishtank.com/phish_detail.php?phis...</td>\n",
       "      <td>2024-06-25T15:30:28+00:00</td>\n",
       "      <td>yes</td>\n",
       "      <td>2024-06-25T15:33:20+00:00</td>\n",
       "      <td>yes</td>\n",
       "      <td>Other</td>\n",
       "    </tr>\n",
       "    <tr>\n",
       "      <th>4</th>\n",
       "      <td>8629189</td>\n",
       "      <td>https://f005.backblazeb2.com/file/btinternerma...</td>\n",
       "      <td>http://www.phishtank.com/phish_detail.php?phis...</td>\n",
       "      <td>2024-06-25T15:29:55+00:00</td>\n",
       "      <td>yes</td>\n",
       "      <td>2024-06-25T15:33:20+00:00</td>\n",
       "      <td>yes</td>\n",
       "      <td>Other</td>\n",
       "    </tr>\n",
       "  </tbody>\n",
       "</table>\n",
       "</div>"
      ],
      "text/plain": [
       "   phish_id                                                url  \\\n",
       "0   8629212  http://7766hmhttt.000webhostapp.com/agency.dai...   \n",
       "1   8629193  https://us17.list-manage.com/survey?u=5688d12d...   \n",
       "2   8629192              https://tpfan033.activehosted.com/f/1   \n",
       "3   8629191                    https://link.space/@btinternetm   \n",
       "4   8629189  https://f005.backblazeb2.com/file/btinternerma...   \n",
       "\n",
       "                                    phish_detail_url  \\\n",
       "0  http://www.phishtank.com/phish_detail.php?phis...   \n",
       "1  http://www.phishtank.com/phish_detail.php?phis...   \n",
       "2  http://www.phishtank.com/phish_detail.php?phis...   \n",
       "3  http://www.phishtank.com/phish_detail.php?phis...   \n",
       "4  http://www.phishtank.com/phish_detail.php?phis...   \n",
       "\n",
       "             submission_time verified          verification_time online target  \n",
       "0  2024-06-25T16:00:19+00:00      yes  2024-06-25T16:04:14+00:00    yes  Other  \n",
       "1  2024-06-25T15:31:09+00:00      yes  2024-06-25T15:42:59+00:00    yes  Other  \n",
       "2  2024-06-25T15:31:01+00:00      yes  2024-06-25T15:42:59+00:00    yes  Other  \n",
       "3  2024-06-25T15:30:28+00:00      yes  2024-06-25T15:33:20+00:00    yes  Other  \n",
       "4  2024-06-25T15:29:55+00:00      yes  2024-06-25T15:33:20+00:00    yes  Other  "
      ]
     },
     "execution_count": 5,
     "metadata": {},
     "output_type": "execute_result"
    }
   ],
   "source": [
    "phishing_db.head()"
   ]
  },
  {
   "cell_type": "code",
   "execution_count": null,
   "metadata": {},
   "outputs": [],
   "source": []
  }
 ],
 "metadata": {
  "kernelspec": {
   "display_name": "isolation",
   "language": "python",
   "name": "python3"
  },
  "language_info": {
   "codemirror_mode": {
    "name": "ipython",
    "version": 3
   },
   "file_extension": ".py",
   "mimetype": "text/x-python",
   "name": "python",
   "nbconvert_exporter": "python",
   "pygments_lexer": "ipython3",
   "version": "3.12.3"
  }
 },
 "nbformat": 4,
 "nbformat_minor": 2
}
